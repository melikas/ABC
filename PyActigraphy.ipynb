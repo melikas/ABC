{
  "nbformat": 4,
  "nbformat_minor": 0,
  "metadata": {
    "colab": {
      "provenance": [],
      "include_colab_link": true
    },
    "kernelspec": {
      "name": "python3",
      "display_name": "Python 3"
    },
    "language_info": {
      "name": "python"
    }
  },
  "cells": [
    {
      "cell_type": "markdown",
      "metadata": {
        "id": "view-in-github",
        "colab_type": "text"
      },
      "source": [
        "<a href=\"https://colab.research.google.com/github/melikas/ABC/blob/main/PyActigraphy.ipynb\" target=\"_parent\"><img src=\"https://colab.research.google.com/assets/colab-badge.svg\" alt=\"Open In Colab\"/></a>"
      ]
    },
    {
      "cell_type": "code",
      "source": [
        "!pip install  statsmodels\n",
        "!pip install --upgrade pandas\n",
        "!pip install --upgrade numpy\n",
        "!pip install --upgrade matplotlib\n",
        "!pip install kaleido\n",
        "!pip install fastapi\n",
        "!pip install python-multipart\n",
        "!pip install uvicorn"
      ],
      "metadata": {
        "colab": {
          "base_uri": "https://localhost:8080/"
        },
        "id": "wPgfpc7S4rxS",
        "outputId": "27260ad5-ac87-45fb-96af-3fcbed97d249"
      },
      "execution_count": null,
      "outputs": [
        {
          "output_type": "stream",
          "name": "stdout",
          "text": [
            "Requirement already satisfied: statsmodels in /usr/local/lib/python3.10/dist-packages (0.14.1)\n",
            "Requirement already satisfied: numpy<2,>=1.18 in /usr/local/lib/python3.10/dist-packages (from statsmodels) (1.26.4)\n",
            "Requirement already satisfied: scipy!=1.9.2,>=1.4 in /usr/local/lib/python3.10/dist-packages (from statsmodels) (1.11.4)\n",
            "Requirement already satisfied: pandas!=2.1.0,>=1.0 in /usr/local/lib/python3.10/dist-packages (from statsmodels) (2.2.0)\n",
            "Requirement already satisfied: patsy>=0.5.4 in /usr/local/lib/python3.10/dist-packages (from statsmodels) (0.5.6)\n",
            "Requirement already satisfied: packaging>=21.3 in /usr/local/lib/python3.10/dist-packages (from statsmodels) (23.2)\n",
            "Requirement already satisfied: python-dateutil>=2.8.2 in /usr/local/lib/python3.10/dist-packages (from pandas!=2.1.0,>=1.0->statsmodels) (2.8.2)\n",
            "Requirement already satisfied: pytz>=2020.1 in /usr/local/lib/python3.10/dist-packages (from pandas!=2.1.0,>=1.0->statsmodels) (2023.4)\n",
            "Requirement already satisfied: tzdata>=2022.7 in /usr/local/lib/python3.10/dist-packages (from pandas!=2.1.0,>=1.0->statsmodels) (2024.1)\n",
            "Requirement already satisfied: six in /usr/local/lib/python3.10/dist-packages (from patsy>=0.5.4->statsmodels) (1.16.0)\n",
            "Requirement already satisfied: pandas in /usr/local/lib/python3.10/dist-packages (2.2.0)\n",
            "Requirement already satisfied: numpy<2,>=1.22.4 in /usr/local/lib/python3.10/dist-packages (from pandas) (1.26.4)\n",
            "Requirement already satisfied: python-dateutil>=2.8.2 in /usr/local/lib/python3.10/dist-packages (from pandas) (2.8.2)\n",
            "Requirement already satisfied: pytz>=2020.1 in /usr/local/lib/python3.10/dist-packages (from pandas) (2023.4)\n",
            "Requirement already satisfied: tzdata>=2022.7 in /usr/local/lib/python3.10/dist-packages (from pandas) (2024.1)\n",
            "Requirement already satisfied: six>=1.5 in /usr/local/lib/python3.10/dist-packages (from python-dateutil>=2.8.2->pandas) (1.16.0)\n",
            "Requirement already satisfied: numpy in /usr/local/lib/python3.10/dist-packages (1.26.4)\n",
            "Requirement already satisfied: matplotlib in /usr/local/lib/python3.10/dist-packages (3.8.3)\n",
            "Requirement already satisfied: contourpy>=1.0.1 in /usr/local/lib/python3.10/dist-packages (from matplotlib) (1.2.0)\n",
            "Requirement already satisfied: cycler>=0.10 in /usr/local/lib/python3.10/dist-packages (from matplotlib) (0.12.1)\n",
            "Requirement already satisfied: fonttools>=4.22.0 in /usr/local/lib/python3.10/dist-packages (from matplotlib) (4.48.1)\n",
            "Requirement already satisfied: kiwisolver>=1.3.1 in /usr/local/lib/python3.10/dist-packages (from matplotlib) (1.4.5)\n",
            "Requirement already satisfied: numpy<2,>=1.21 in /usr/local/lib/python3.10/dist-packages (from matplotlib) (1.26.4)\n",
            "Requirement already satisfied: packaging>=20.0 in /usr/local/lib/python3.10/dist-packages (from matplotlib) (23.2)\n",
            "Requirement already satisfied: pillow>=8 in /usr/local/lib/python3.10/dist-packages (from matplotlib) (9.4.0)\n",
            "Requirement already satisfied: pyparsing>=2.3.1 in /usr/local/lib/python3.10/dist-packages (from matplotlib) (3.1.1)\n",
            "Requirement already satisfied: python-dateutil>=2.7 in /usr/local/lib/python3.10/dist-packages (from matplotlib) (2.8.2)\n",
            "Requirement already satisfied: six>=1.5 in /usr/local/lib/python3.10/dist-packages (from python-dateutil>=2.7->matplotlib) (1.16.0)\n",
            "Requirement already satisfied: kaleido in /usr/local/lib/python3.10/dist-packages (0.2.1)\n",
            "Collecting fastapi\n",
            "  Downloading fastapi-0.109.2-py3-none-any.whl (92 kB)\n",
            "\u001b[2K     \u001b[90m━━━━━━━━━━━━━━━━━━━━━━━━━━━━━━━━━━━━━━━━\u001b[0m \u001b[32m92.1/92.1 kB\u001b[0m \u001b[31m2.7 MB/s\u001b[0m eta \u001b[36m0:00:00\u001b[0m\n",
            "\u001b[?25hRequirement already satisfied: pydantic!=1.8,!=1.8.1,!=2.0.0,!=2.0.1,!=2.1.0,<3.0.0,>=1.7.4 in /usr/local/lib/python3.10/dist-packages (from fastapi) (2.6.1)\n",
            "Collecting starlette<0.37.0,>=0.36.3 (from fastapi)\n",
            "  Downloading starlette-0.36.3-py3-none-any.whl (71 kB)\n",
            "\u001b[2K     \u001b[90m━━━━━━━━━━━━━━━━━━━━━━━━━━━━━━━━━━━━━━━━\u001b[0m \u001b[32m71.5/71.5 kB\u001b[0m \u001b[31m9.0 MB/s\u001b[0m eta \u001b[36m0:00:00\u001b[0m\n",
            "\u001b[?25hRequirement already satisfied: typing-extensions>=4.8.0 in /usr/local/lib/python3.10/dist-packages (from fastapi) (4.9.0)\n",
            "Requirement already satisfied: annotated-types>=0.4.0 in /usr/local/lib/python3.10/dist-packages (from pydantic!=1.8,!=1.8.1,!=2.0.0,!=2.0.1,!=2.1.0,<3.0.0,>=1.7.4->fastapi) (0.6.0)\n",
            "Requirement already satisfied: pydantic-core==2.16.2 in /usr/local/lib/python3.10/dist-packages (from pydantic!=1.8,!=1.8.1,!=2.0.0,!=2.0.1,!=2.1.0,<3.0.0,>=1.7.4->fastapi) (2.16.2)\n",
            "Requirement already satisfied: anyio<5,>=3.4.0 in /usr/local/lib/python3.10/dist-packages (from starlette<0.37.0,>=0.36.3->fastapi) (3.7.1)\n",
            "Requirement already satisfied: idna>=2.8 in /usr/local/lib/python3.10/dist-packages (from anyio<5,>=3.4.0->starlette<0.37.0,>=0.36.3->fastapi) (3.6)\n",
            "Requirement already satisfied: sniffio>=1.1 in /usr/local/lib/python3.10/dist-packages (from anyio<5,>=3.4.0->starlette<0.37.0,>=0.36.3->fastapi) (1.3.0)\n",
            "Requirement already satisfied: exceptiongroup in /usr/local/lib/python3.10/dist-packages (from anyio<5,>=3.4.0->starlette<0.37.0,>=0.36.3->fastapi) (1.2.0)\n",
            "Installing collected packages: starlette, fastapi\n",
            "\u001b[31mERROR: pip's dependency resolver does not currently take into account all the packages that are installed. This behaviour is the source of the following dependency conflicts.\n",
            "lida 0.0.10 requires uvicorn, which is not installed.\u001b[0m\u001b[31m\n",
            "\u001b[0mSuccessfully installed fastapi-0.109.2 starlette-0.36.3\n",
            "Requirement already satisfied: python-multipart in /usr/local/lib/python3.10/dist-packages (0.0.9)\n",
            "Collecting uvicorn\n",
            "  Downloading uvicorn-0.27.1-py3-none-any.whl (60 kB)\n",
            "\u001b[2K     \u001b[90m━━━━━━━━━━━━━━━━━━━━━━━━━━━━━━━━━━━━━━━━\u001b[0m \u001b[32m60.8/60.8 kB\u001b[0m \u001b[31m2.4 MB/s\u001b[0m eta \u001b[36m0:00:00\u001b[0m\n",
            "\u001b[?25hRequirement already satisfied: click>=7.0 in /usr/local/lib/python3.10/dist-packages (from uvicorn) (8.1.7)\n",
            "Collecting h11>=0.8 (from uvicorn)\n",
            "  Downloading h11-0.14.0-py3-none-any.whl (58 kB)\n",
            "\u001b[2K     \u001b[90m━━━━━━━━━━━━━━━━━━━━━━━━━━━━━━━━━━━━━━━━\u001b[0m \u001b[32m58.3/58.3 kB\u001b[0m \u001b[31m5.8 MB/s\u001b[0m eta \u001b[36m0:00:00\u001b[0m\n",
            "\u001b[?25hRequirement already satisfied: typing-extensions>=4.0 in /usr/local/lib/python3.10/dist-packages (from uvicorn) (4.9.0)\n",
            "Installing collected packages: h11, uvicorn\n",
            "Successfully installed h11-0.14.0 uvicorn-0.27.1\n"
          ]
        }
      ]
    },
    {
      "cell_type": "code",
      "source": [
        "!pip install pyActigraphy"
      ],
      "metadata": {
        "colab": {
          "base_uri": "https://localhost:8080/"
        },
        "id": "EI8d2BgPFoUi",
        "outputId": "3501d372-ea31-4ed0-8ca2-1e51e81ec8d2"
      },
      "execution_count": null,
      "outputs": [
        {
          "output_type": "stream",
          "name": "stdout",
          "text": [
            "Requirement already satisfied: pyActigraphy in /usr/local/lib/python3.10/dist-packages (1.2.1)\n",
            "Requirement already satisfied: joblib in /usr/local/lib/python3.10/dist-packages (from pyActigraphy) (1.1.1)\n",
            "Requirement already satisfied: lmfit in /usr/local/lib/python3.10/dist-packages (from pyActigraphy) (1.2.2)\n",
            "Requirement already satisfied: pandas in /usr/local/lib/python3.10/dist-packages (from pyActigraphy) (1.3.5)\n",
            "Requirement already satisfied: plotly in /usr/local/lib/python3.10/dist-packages (from pyActigraphy) (5.15.0)\n",
            "Requirement already satisfied: numba in /usr/local/lib/python3.10/dist-packages (from pyActigraphy) (0.58.0)\n",
            "Requirement already satisfied: numpy in /usr/local/lib/python3.10/dist-packages (from pyActigraphy) (1.21.6)\n",
            "Requirement already satisfied: pyexcel in /usr/local/lib/python3.10/dist-packages (from pyActigraphy) (0.7.0)\n",
            "Requirement already satisfied: pyexcel-ods3 in /usr/local/lib/python3.10/dist-packages (from pyActigraphy) (0.6.1)\n",
            "Requirement already satisfied: pyexcel-xlsx in /usr/local/lib/python3.10/dist-packages (from pyActigraphy) (0.6.0)\n",
            "Requirement already satisfied: scipy in /usr/local/lib/python3.10/dist-packages (from pyActigraphy) (1.7.3)\n",
            "Requirement already satisfied: spm1d in /usr/local/lib/python3.10/dist-packages (from pyActigraphy) (0.4.23)\n",
            "Requirement already satisfied: statsmodels>=0.10 in /usr/local/lib/python3.10/dist-packages (from pyActigraphy) (0.13.5)\n",
            "Requirement already satisfied: stochastic>=0.6.0 in /usr/local/lib/python3.10/dist-packages (from pyActigraphy) (0.6.0)\n",
            "Requirement already satisfied: accelerometer>=6.2.2 in /usr/local/lib/python3.10/dist-packages (from pyActigraphy) (7.1.1)\n",
            "Requirement already satisfied: matplotlib==3.5.* in /usr/local/lib/python3.10/dist-packages (from accelerometer>=6.2.2->pyActigraphy) (3.5.3)\n",
            "Requirement already satisfied: tqdm==4.65.* in /usr/local/lib/python3.10/dist-packages (from accelerometer>=6.2.2->pyActigraphy) (4.65.2)\n",
            "Requirement already satisfied: imbalanced-learn==0.8.1 in /usr/local/lib/python3.10/dist-packages (from accelerometer>=6.2.2->pyActigraphy) (0.8.1)\n",
            "Requirement already satisfied: scikit-learn==1.0.2 in /usr/local/lib/python3.10/dist-packages (from accelerometer>=6.2.2->pyActigraphy) (1.0.2)\n",
            "Requirement already satisfied: python-dateutil>=2.7.3 in /usr/local/lib/python3.10/dist-packages (from pandas->pyActigraphy) (2.8.2)\n",
            "Requirement already satisfied: pytz>=2017.3 in /usr/local/lib/python3.10/dist-packages (from pandas->pyActigraphy) (2023.3.post1)\n",
            "Requirement already satisfied: patsy>=0.5.2 in /usr/local/lib/python3.10/dist-packages (from statsmodels>=0.10->pyActigraphy) (0.5.4)\n",
            "Requirement already satisfied: packaging>=21.3 in /usr/local/lib/python3.10/dist-packages (from statsmodels>=0.10->pyActigraphy) (23.2)\n",
            "Requirement already satisfied: cycler>=0.10 in /usr/local/lib/python3.10/dist-packages (from matplotlib==3.5.*->accelerometer>=6.2.2->pyActigraphy) (0.12.1)\n",
            "Requirement already satisfied: fonttools>=4.22.0 in /usr/local/lib/python3.10/dist-packages (from matplotlib==3.5.*->accelerometer>=6.2.2->pyActigraphy) (4.46.0)\n",
            "Requirement already satisfied: kiwisolver>=1.0.1 in /usr/local/lib/python3.10/dist-packages (from matplotlib==3.5.*->accelerometer>=6.2.2->pyActigraphy) (1.4.5)\n",
            "Requirement already satisfied: pillow>=6.2.0 in /usr/local/lib/python3.10/dist-packages (from matplotlib==3.5.*->accelerometer>=6.2.2->pyActigraphy) (9.4.0)\n",
            "Requirement already satisfied: pyparsing>=2.2.1 in /usr/local/lib/python3.10/dist-packages (from matplotlib==3.5.*->accelerometer>=6.2.2->pyActigraphy) (3.1.1)\n",
            "Requirement already satisfied: threadpoolctl>=2.0.0 in /usr/local/lib/python3.10/dist-packages (from scikit-learn==1.0.2->accelerometer>=6.2.2->pyActigraphy) (3.2.0)\n",
            "Requirement already satisfied: asteval>=0.9.28 in /usr/local/lib/python3.10/dist-packages (from lmfit->pyActigraphy) (0.9.31)\n",
            "Requirement already satisfied: uncertainties>=3.1.4 in /usr/local/lib/python3.10/dist-packages (from lmfit->pyActigraphy) (3.1.7)\n",
            "Requirement already satisfied: llvmlite<0.42,>=0.41.0dev0 in /usr/local/lib/python3.10/dist-packages (from numba->pyActigraphy) (0.41.1)\n",
            "Requirement already satisfied: tenacity>=6.2.0 in /usr/local/lib/python3.10/dist-packages (from plotly->pyActigraphy) (8.2.3)\n",
            "Requirement already satisfied: chardet in /usr/local/lib/python3.10/dist-packages (from pyexcel->pyActigraphy) (5.2.0)\n",
            "Requirement already satisfied: lml>=0.0.4 in /usr/local/lib/python3.10/dist-packages (from pyexcel->pyActigraphy) (0.1.0)\n",
            "Requirement already satisfied: pyexcel-io>=0.6.2 in /usr/local/lib/python3.10/dist-packages (from pyexcel->pyActigraphy) (0.6.6)\n",
            "Requirement already satisfied: texttable>=0.8.2 in /usr/local/lib/python3.10/dist-packages (from pyexcel->pyActigraphy) (1.7.0)\n",
            "Requirement already satisfied: lxml in /usr/local/lib/python3.10/dist-packages (from pyexcel-ods3->pyActigraphy) (4.9.3)\n",
            "Requirement already satisfied: pyexcel-ezodf>=0.3.3 in /usr/local/lib/python3.10/dist-packages (from pyexcel-ods3->pyActigraphy) (0.3.4)\n",
            "Requirement already satisfied: openpyxl>=2.6.1 in /usr/local/lib/python3.10/dist-packages (from pyexcel-xlsx->pyActigraphy) (3.1.2)\n",
            "Requirement already satisfied: et-xmlfile in /usr/local/lib/python3.10/dist-packages (from openpyxl>=2.6.1->pyexcel-xlsx->pyActigraphy) (1.1.0)\n",
            "Requirement already satisfied: six in /usr/local/lib/python3.10/dist-packages (from patsy>=0.5.2->statsmodels>=0.10->pyActigraphy) (1.16.0)\n",
            "Requirement already satisfied: future in /usr/local/lib/python3.10/dist-packages (from uncertainties>=3.1.4->lmfit->pyActigraphy) (0.18.3)\n"
          ]
        }
      ]
    },
    {
      "cell_type": "code",
      "source": [
        "!pip install --upgrade scipy\n"
      ],
      "metadata": {
        "colab": {
          "base_uri": "https://localhost:8080/"
        },
        "id": "GOACevMEGmXy",
        "outputId": "8f6918bb-7130-4e0c-b15c-e87ac1aeef1f"
      },
      "execution_count": null,
      "outputs": [
        {
          "output_type": "stream",
          "name": "stdout",
          "text": [
            "Requirement already satisfied: scipy in /usr/local/lib/python3.10/dist-packages (1.7.3)\n",
            "Collecting scipy\n",
            "  Using cached scipy-1.11.4-cp310-cp310-manylinux_2_17_x86_64.manylinux2014_x86_64.whl (36.4 MB)\n",
            "Requirement already satisfied: numpy<1.28.0,>=1.21.6 in /usr/local/lib/python3.10/dist-packages (from scipy) (1.21.6)\n",
            "Installing collected packages: scipy\n",
            "  Attempting uninstall: scipy\n",
            "    Found existing installation: scipy 1.7.3\n",
            "    Uninstalling scipy-1.7.3:\n",
            "      Successfully uninstalled scipy-1.7.3\n",
            "\u001b[31mERROR: pip's dependency resolver does not currently take into account all the packages that are installed. This behaviour is the source of the following dependency conflicts.\n",
            "accelerometer 7.1.1 requires scipy==1.7.*, but you have scipy 1.11.4 which is incompatible.\n",
            "jax 0.4.23 requires numpy>=1.22, but you have numpy 1.21.6 which is incompatible.\n",
            "jaxlib 0.4.23+cuda12.cudnn89 requires numpy>=1.22, but you have numpy 1.21.6 which is incompatible.\n",
            "plotnine 0.12.4 requires matplotlib>=3.6.0, but you have matplotlib 3.5.3 which is incompatible.\n",
            "plotnine 0.12.4 requires numpy>=1.23.0, but you have numpy 1.21.6 which is incompatible.\n",
            "plotnine 0.12.4 requires pandas>=1.5.0, but you have pandas 1.3.5 which is incompatible.\n",
            "plotnine 0.12.4 requires statsmodels>=0.14.0, but you have statsmodels 0.13.5 which is incompatible.\u001b[0m\u001b[31m\n",
            "\u001b[0mSuccessfully installed scipy-1.11.4\n"
          ]
        }
      ]
    },
    {
      "cell_type": "code",
      "source": [
        "!pip install pandas"
      ],
      "metadata": {
        "colab": {
          "base_uri": "https://localhost:8080/"
        },
        "id": "JkE0PK-yTt9x",
        "outputId": "30dfcb0e-1887-4191-a64e-03f4cca41669"
      },
      "execution_count": null,
      "outputs": [
        {
          "output_type": "stream",
          "name": "stdout",
          "text": [
            "Requirement already satisfied: pandas in /usr/local/lib/python3.10/dist-packages (1.3.5)\n",
            "Requirement already satisfied: python-dateutil>=2.7.3 in /usr/local/lib/python3.10/dist-packages (from pandas) (2.8.2)\n",
            "Requirement already satisfied: pytz>=2017.3 in /usr/local/lib/python3.10/dist-packages (from pandas) (2023.3.post1)\n",
            "Requirement already satisfied: numpy>=1.21.0 in /usr/local/lib/python3.10/dist-packages (from pandas) (1.21.6)\n",
            "Requirement already satisfied: six>=1.5 in /usr/local/lib/python3.10/dist-packages (from python-dateutil>=2.7.3->pandas) (1.16.0)\n"
          ]
        }
      ]
    },
    {
      "cell_type": "code",
      "source": [
        "! pip install numpy==1.25.0"
      ],
      "metadata": {
        "colab": {
          "base_uri": "https://localhost:8080/"
        },
        "id": "qs2LmLhI6_rN",
        "outputId": "852c633d-724f-4c21-f0bb-fbb0d963d869"
      },
      "execution_count": null,
      "outputs": [
        {
          "output_type": "stream",
          "name": "stdout",
          "text": [
            "Requirement already satisfied: numpy==1.25.0 in /usr/local/lib/python3.10/dist-packages (1.25.0)\n"
          ]
        }
      ]
    },
    {
      "cell_type": "code",
      "execution_count": null,
      "metadata": {
        "id": "kKnd5f31FZ2u"
      },
      "outputs": [],
      "source": [
        "import os\n",
        "from datetime import datetime\n",
        "import numpy as np\n",
        "import pandas as pd\n",
        "import seaborn as sns\n",
        "import matplotlib.pyplot as plt\n",
        "import zipfile\n",
        "import pyActigraphy"
      ]
    },
    {
      "cell_type": "code",
      "source": [
        "# Define the path to your uploaded zip file\n",
        "zip_path = '/content/depresjon.zip'  # Make sure to replace 'your_zip_file.zip' with your actual file name\n",
        "\n",
        "# Define the directory where you want to extract the files\n",
        "extracted_path = '/content/extracted/'\n",
        "\n",
        "# Create the directory if it doesn't exist\n",
        "os.makedirs(extracted_path, exist_ok=True)\n",
        "\n",
        "# Unzip the file\n",
        "with zipfile.ZipFile(zip_path, 'r') as zip_ref:\n",
        "    zip_ref.extractall(extracted_path)\n",
        "\n",
        "# List the files in the extracted directory\n",
        "extracted_files = os.listdir(extracted_path)\n",
        "\n",
        "# Print the list of files\n",
        "print(\"Extracted Files:\")\n",
        "for file in extracted_files:\n",
        "    print(file)"
      ],
      "metadata": {
        "colab": {
          "base_uri": "https://localhost:8080/"
        },
        "id": "zxH2SYKhCvlt",
        "outputId": "9ad75752-f18d-45e4-915a-d8e7a5555ead"
      },
      "execution_count": null,
      "outputs": [
        {
          "output_type": "stream",
          "name": "stdout",
          "text": [
            "Extracted Files:\n",
            "data\n"
          ]
        }
      ]
    },
    {
      "cell_type": "code",
      "source": [
        "from pandas.tseries import frequencies\n",
        "extracted_data = pd.read_csv('/content/extracted/data/control/control_1.csv')\n",
        "d = {'timestamp': extracted_data['timestamp'], 'date': extracted_data['date'], 'activity': extracted_data['activity']}\n",
        "index = pd.date_range(start='18/03/2003  3:00:00 PM',freq='60s',periods=51611)\n",
        "data = pd.DataFrame(data=d, index=index)\n",
        "data['timestamp'] = pd.to_datetime(data['timestamp'])\n",
        "#data.set_index('timestamp', inplace=True)\n",
        "data['activity'] = extracted_data['activity'].values\n",
        "data['timestamp'] = extracted_data['timestamp'].values\n",
        "data['date'] = extracted_data['date'].values\n"
      ],
      "metadata": {
        "id": "IZrmZ1uSFxeh"
      },
      "execution_count": null,
      "outputs": []
    },
    {
      "cell_type": "code",
      "source": [
        "data"
      ],
      "metadata": {
        "id": "NHkkeb3zQyIi",
        "colab": {
          "base_uri": "https://localhost:8080/",
          "height": 424
        },
        "outputId": "910b8f19-0057-41b1-8c4a-5287883c9637"
      },
      "execution_count": null,
      "outputs": [
        {
          "output_type": "execute_result",
          "data": {
            "text/plain": [
              "                               timestamp        date  activity\n",
              "2003-03-18 15:00:00  2003-03-18 15:00:00  2003-03-18        60\n",
              "2003-03-18 15:01:00  2003-03-18 15:01:00  2003-03-18         0\n",
              "2003-03-18 15:02:00  2003-03-18 15:02:00  2003-03-18       264\n",
              "2003-03-18 15:03:00  2003-03-18 15:03:00  2003-03-18       662\n",
              "2003-03-18 15:04:00  2003-03-18 15:04:00  2003-03-18       293\n",
              "...                                  ...         ...       ...\n",
              "2003-04-23 11:06:00  2003-04-23 12:06:00  2003-04-23         3\n",
              "2003-04-23 11:07:00  2003-04-23 12:07:00  2003-04-23         3\n",
              "2003-04-23 11:08:00  2003-04-23 12:08:00  2003-04-23         3\n",
              "2003-04-23 11:09:00  2003-04-23 12:09:00  2003-04-23         3\n",
              "2003-04-23 11:10:00  2003-04-23 12:10:00  2003-04-23         0\n",
              "\n",
              "[51611 rows x 3 columns]"
            ],
            "text/html": [
              "\n",
              "  <div id=\"df-e3d87f10-af13-4cb4-8441-3ed780ace048\" class=\"colab-df-container\">\n",
              "    <div>\n",
              "<style scoped>\n",
              "    .dataframe tbody tr th:only-of-type {\n",
              "        vertical-align: middle;\n",
              "    }\n",
              "\n",
              "    .dataframe tbody tr th {\n",
              "        vertical-align: top;\n",
              "    }\n",
              "\n",
              "    .dataframe thead th {\n",
              "        text-align: right;\n",
              "    }\n",
              "</style>\n",
              "<table border=\"1\" class=\"dataframe\">\n",
              "  <thead>\n",
              "    <tr style=\"text-align: right;\">\n",
              "      <th></th>\n",
              "      <th>timestamp</th>\n",
              "      <th>date</th>\n",
              "      <th>activity</th>\n",
              "    </tr>\n",
              "  </thead>\n",
              "  <tbody>\n",
              "    <tr>\n",
              "      <th>2003-03-18 15:00:00</th>\n",
              "      <td>2003-03-18 15:00:00</td>\n",
              "      <td>2003-03-18</td>\n",
              "      <td>60</td>\n",
              "    </tr>\n",
              "    <tr>\n",
              "      <th>2003-03-18 15:01:00</th>\n",
              "      <td>2003-03-18 15:01:00</td>\n",
              "      <td>2003-03-18</td>\n",
              "      <td>0</td>\n",
              "    </tr>\n",
              "    <tr>\n",
              "      <th>2003-03-18 15:02:00</th>\n",
              "      <td>2003-03-18 15:02:00</td>\n",
              "      <td>2003-03-18</td>\n",
              "      <td>264</td>\n",
              "    </tr>\n",
              "    <tr>\n",
              "      <th>2003-03-18 15:03:00</th>\n",
              "      <td>2003-03-18 15:03:00</td>\n",
              "      <td>2003-03-18</td>\n",
              "      <td>662</td>\n",
              "    </tr>\n",
              "    <tr>\n",
              "      <th>2003-03-18 15:04:00</th>\n",
              "      <td>2003-03-18 15:04:00</td>\n",
              "      <td>2003-03-18</td>\n",
              "      <td>293</td>\n",
              "    </tr>\n",
              "    <tr>\n",
              "      <th>...</th>\n",
              "      <td>...</td>\n",
              "      <td>...</td>\n",
              "      <td>...</td>\n",
              "    </tr>\n",
              "    <tr>\n",
              "      <th>2003-04-23 11:06:00</th>\n",
              "      <td>2003-04-23 12:06:00</td>\n",
              "      <td>2003-04-23</td>\n",
              "      <td>3</td>\n",
              "    </tr>\n",
              "    <tr>\n",
              "      <th>2003-04-23 11:07:00</th>\n",
              "      <td>2003-04-23 12:07:00</td>\n",
              "      <td>2003-04-23</td>\n",
              "      <td>3</td>\n",
              "    </tr>\n",
              "    <tr>\n",
              "      <th>2003-04-23 11:08:00</th>\n",
              "      <td>2003-04-23 12:08:00</td>\n",
              "      <td>2003-04-23</td>\n",
              "      <td>3</td>\n",
              "    </tr>\n",
              "    <tr>\n",
              "      <th>2003-04-23 11:09:00</th>\n",
              "      <td>2003-04-23 12:09:00</td>\n",
              "      <td>2003-04-23</td>\n",
              "      <td>3</td>\n",
              "    </tr>\n",
              "    <tr>\n",
              "      <th>2003-04-23 11:10:00</th>\n",
              "      <td>2003-04-23 12:10:00</td>\n",
              "      <td>2003-04-23</td>\n",
              "      <td>0</td>\n",
              "    </tr>\n",
              "  </tbody>\n",
              "</table>\n",
              "<p>51611 rows × 3 columns</p>\n",
              "</div>\n",
              "    <div class=\"colab-df-buttons\">\n",
              "\n",
              "  <div class=\"colab-df-container\">\n",
              "    <button class=\"colab-df-convert\" onclick=\"convertToInteractive('df-e3d87f10-af13-4cb4-8441-3ed780ace048')\"\n",
              "            title=\"Convert this dataframe to an interactive table.\"\n",
              "            style=\"display:none;\">\n",
              "\n",
              "  <svg xmlns=\"http://www.w3.org/2000/svg\" height=\"24px\" viewBox=\"0 -960 960 960\">\n",
              "    <path d=\"M120-120v-720h720v720H120Zm60-500h600v-160H180v160Zm220 220h160v-160H400v160Zm0 220h160v-160H400v160ZM180-400h160v-160H180v160Zm440 0h160v-160H620v160ZM180-180h160v-160H180v160Zm440 0h160v-160H620v160Z\"/>\n",
              "  </svg>\n",
              "    </button>\n",
              "\n",
              "  <style>\n",
              "    .colab-df-container {\n",
              "      display:flex;\n",
              "      gap: 12px;\n",
              "    }\n",
              "\n",
              "    .colab-df-convert {\n",
              "      background-color: #E8F0FE;\n",
              "      border: none;\n",
              "      border-radius: 50%;\n",
              "      cursor: pointer;\n",
              "      display: none;\n",
              "      fill: #1967D2;\n",
              "      height: 32px;\n",
              "      padding: 0 0 0 0;\n",
              "      width: 32px;\n",
              "    }\n",
              "\n",
              "    .colab-df-convert:hover {\n",
              "      background-color: #E2EBFA;\n",
              "      box-shadow: 0px 1px 2px rgba(60, 64, 67, 0.3), 0px 1px 3px 1px rgba(60, 64, 67, 0.15);\n",
              "      fill: #174EA6;\n",
              "    }\n",
              "\n",
              "    .colab-df-buttons div {\n",
              "      margin-bottom: 4px;\n",
              "    }\n",
              "\n",
              "    [theme=dark] .colab-df-convert {\n",
              "      background-color: #3B4455;\n",
              "      fill: #D2E3FC;\n",
              "    }\n",
              "\n",
              "    [theme=dark] .colab-df-convert:hover {\n",
              "      background-color: #434B5C;\n",
              "      box-shadow: 0px 1px 3px 1px rgba(0, 0, 0, 0.15);\n",
              "      filter: drop-shadow(0px 1px 2px rgba(0, 0, 0, 0.3));\n",
              "      fill: #FFFFFF;\n",
              "    }\n",
              "  </style>\n",
              "\n",
              "    <script>\n",
              "      const buttonEl =\n",
              "        document.querySelector('#df-e3d87f10-af13-4cb4-8441-3ed780ace048 button.colab-df-convert');\n",
              "      buttonEl.style.display =\n",
              "        google.colab.kernel.accessAllowed ? 'block' : 'none';\n",
              "\n",
              "      async function convertToInteractive(key) {\n",
              "        const element = document.querySelector('#df-e3d87f10-af13-4cb4-8441-3ed780ace048');\n",
              "        const dataTable =\n",
              "          await google.colab.kernel.invokeFunction('convertToInteractive',\n",
              "                                                    [key], {});\n",
              "        if (!dataTable) return;\n",
              "\n",
              "        const docLinkHtml = 'Like what you see? Visit the ' +\n",
              "          '<a target=\"_blank\" href=https://colab.research.google.com/notebooks/data_table.ipynb>data table notebook</a>'\n",
              "          + ' to learn more about interactive tables.';\n",
              "        element.innerHTML = '';\n",
              "        dataTable['output_type'] = 'display_data';\n",
              "        await google.colab.output.renderOutput(dataTable, element);\n",
              "        const docLink = document.createElement('div');\n",
              "        docLink.innerHTML = docLinkHtml;\n",
              "        element.appendChild(docLink);\n",
              "      }\n",
              "    </script>\n",
              "  </div>\n",
              "\n",
              "\n",
              "<div id=\"df-ec36532a-4ad2-43ab-b250-d6a86b6752ad\">\n",
              "  <button class=\"colab-df-quickchart\" onclick=\"quickchart('df-ec36532a-4ad2-43ab-b250-d6a86b6752ad')\"\n",
              "            title=\"Suggest charts\"\n",
              "            style=\"display:none;\">\n",
              "\n",
              "<svg xmlns=\"http://www.w3.org/2000/svg\" height=\"24px\"viewBox=\"0 0 24 24\"\n",
              "     width=\"24px\">\n",
              "    <g>\n",
              "        <path d=\"M19 3H5c-1.1 0-2 .9-2 2v14c0 1.1.9 2 2 2h14c1.1 0 2-.9 2-2V5c0-1.1-.9-2-2-2zM9 17H7v-7h2v7zm4 0h-2V7h2v10zm4 0h-2v-4h2v4z\"/>\n",
              "    </g>\n",
              "</svg>\n",
              "  </button>\n",
              "\n",
              "<style>\n",
              "  .colab-df-quickchart {\n",
              "      --bg-color: #E8F0FE;\n",
              "      --fill-color: #1967D2;\n",
              "      --hover-bg-color: #E2EBFA;\n",
              "      --hover-fill-color: #174EA6;\n",
              "      --disabled-fill-color: #AAA;\n",
              "      --disabled-bg-color: #DDD;\n",
              "  }\n",
              "\n",
              "  [theme=dark] .colab-df-quickchart {\n",
              "      --bg-color: #3B4455;\n",
              "      --fill-color: #D2E3FC;\n",
              "      --hover-bg-color: #434B5C;\n",
              "      --hover-fill-color: #FFFFFF;\n",
              "      --disabled-bg-color: #3B4455;\n",
              "      --disabled-fill-color: #666;\n",
              "  }\n",
              "\n",
              "  .colab-df-quickchart {\n",
              "    background-color: var(--bg-color);\n",
              "    border: none;\n",
              "    border-radius: 50%;\n",
              "    cursor: pointer;\n",
              "    display: none;\n",
              "    fill: var(--fill-color);\n",
              "    height: 32px;\n",
              "    padding: 0;\n",
              "    width: 32px;\n",
              "  }\n",
              "\n",
              "  .colab-df-quickchart:hover {\n",
              "    background-color: var(--hover-bg-color);\n",
              "    box-shadow: 0 1px 2px rgba(60, 64, 67, 0.3), 0 1px 3px 1px rgba(60, 64, 67, 0.15);\n",
              "    fill: var(--button-hover-fill-color);\n",
              "  }\n",
              "\n",
              "  .colab-df-quickchart-complete:disabled,\n",
              "  .colab-df-quickchart-complete:disabled:hover {\n",
              "    background-color: var(--disabled-bg-color);\n",
              "    fill: var(--disabled-fill-color);\n",
              "    box-shadow: none;\n",
              "  }\n",
              "\n",
              "  .colab-df-spinner {\n",
              "    border: 2px solid var(--fill-color);\n",
              "    border-color: transparent;\n",
              "    border-bottom-color: var(--fill-color);\n",
              "    animation:\n",
              "      spin 1s steps(1) infinite;\n",
              "  }\n",
              "\n",
              "  @keyframes spin {\n",
              "    0% {\n",
              "      border-color: transparent;\n",
              "      border-bottom-color: var(--fill-color);\n",
              "      border-left-color: var(--fill-color);\n",
              "    }\n",
              "    20% {\n",
              "      border-color: transparent;\n",
              "      border-left-color: var(--fill-color);\n",
              "      border-top-color: var(--fill-color);\n",
              "    }\n",
              "    30% {\n",
              "      border-color: transparent;\n",
              "      border-left-color: var(--fill-color);\n",
              "      border-top-color: var(--fill-color);\n",
              "      border-right-color: var(--fill-color);\n",
              "    }\n",
              "    40% {\n",
              "      border-color: transparent;\n",
              "      border-right-color: var(--fill-color);\n",
              "      border-top-color: var(--fill-color);\n",
              "    }\n",
              "    60% {\n",
              "      border-color: transparent;\n",
              "      border-right-color: var(--fill-color);\n",
              "    }\n",
              "    80% {\n",
              "      border-color: transparent;\n",
              "      border-right-color: var(--fill-color);\n",
              "      border-bottom-color: var(--fill-color);\n",
              "    }\n",
              "    90% {\n",
              "      border-color: transparent;\n",
              "      border-bottom-color: var(--fill-color);\n",
              "    }\n",
              "  }\n",
              "</style>\n",
              "\n",
              "  <script>\n",
              "    async function quickchart(key) {\n",
              "      const quickchartButtonEl =\n",
              "        document.querySelector('#' + key + ' button');\n",
              "      quickchartButtonEl.disabled = true;  // To prevent multiple clicks.\n",
              "      quickchartButtonEl.classList.add('colab-df-spinner');\n",
              "      try {\n",
              "        const charts = await google.colab.kernel.invokeFunction(\n",
              "            'suggestCharts', [key], {});\n",
              "      } catch (error) {\n",
              "        console.error('Error during call to suggestCharts:', error);\n",
              "      }\n",
              "      quickchartButtonEl.classList.remove('colab-df-spinner');\n",
              "      quickchartButtonEl.classList.add('colab-df-quickchart-complete');\n",
              "    }\n",
              "    (() => {\n",
              "      let quickchartButtonEl =\n",
              "        document.querySelector('#df-ec36532a-4ad2-43ab-b250-d6a86b6752ad button');\n",
              "      quickchartButtonEl.style.display =\n",
              "        google.colab.kernel.accessAllowed ? 'block' : 'none';\n",
              "    })();\n",
              "  </script>\n",
              "</div>\n",
              "\n",
              "  <div id=\"id_57c26f74-b60a-45a6-b103-f7d7e6c7711b\">\n",
              "    <style>\n",
              "      .colab-df-generate {\n",
              "        background-color: #E8F0FE;\n",
              "        border: none;\n",
              "        border-radius: 50%;\n",
              "        cursor: pointer;\n",
              "        display: none;\n",
              "        fill: #1967D2;\n",
              "        height: 32px;\n",
              "        padding: 0 0 0 0;\n",
              "        width: 32px;\n",
              "      }\n",
              "\n",
              "      .colab-df-generate:hover {\n",
              "        background-color: #E2EBFA;\n",
              "        box-shadow: 0px 1px 2px rgba(60, 64, 67, 0.3), 0px 1px 3px 1px rgba(60, 64, 67, 0.15);\n",
              "        fill: #174EA6;\n",
              "      }\n",
              "\n",
              "      [theme=dark] .colab-df-generate {\n",
              "        background-color: #3B4455;\n",
              "        fill: #D2E3FC;\n",
              "      }\n",
              "\n",
              "      [theme=dark] .colab-df-generate:hover {\n",
              "        background-color: #434B5C;\n",
              "        box-shadow: 0px 1px 3px 1px rgba(0, 0, 0, 0.15);\n",
              "        filter: drop-shadow(0px 1px 2px rgba(0, 0, 0, 0.3));\n",
              "        fill: #FFFFFF;\n",
              "      }\n",
              "    </style>\n",
              "    <button class=\"colab-df-generate\" onclick=\"generateWithVariable('data')\"\n",
              "            title=\"Generate code using this dataframe.\"\n",
              "            style=\"display:none;\">\n",
              "\n",
              "  <svg xmlns=\"http://www.w3.org/2000/svg\" height=\"24px\"viewBox=\"0 0 24 24\"\n",
              "       width=\"24px\">\n",
              "    <path d=\"M7,19H8.4L18.45,9,17,7.55,7,17.6ZM5,21V16.75L18.45,3.32a2,2,0,0,1,2.83,0l1.4,1.43a1.91,1.91,0,0,1,.58,1.4,1.91,1.91,0,0,1-.58,1.4L9.25,21ZM18.45,9,17,7.55Zm-12,3A5.31,5.31,0,0,0,4.9,8.1,5.31,5.31,0,0,0,1,6.5,5.31,5.31,0,0,0,4.9,4.9,5.31,5.31,0,0,0,6.5,1,5.31,5.31,0,0,0,8.1,4.9,5.31,5.31,0,0,0,12,6.5,5.46,5.46,0,0,0,6.5,12Z\"/>\n",
              "  </svg>\n",
              "    </button>\n",
              "    <script>\n",
              "      (() => {\n",
              "      const buttonEl =\n",
              "        document.querySelector('#id_57c26f74-b60a-45a6-b103-f7d7e6c7711b button.colab-df-generate');\n",
              "      buttonEl.style.display =\n",
              "        google.colab.kernel.accessAllowed ? 'block' : 'none';\n",
              "\n",
              "      buttonEl.onclick = () => {\n",
              "        google.colab.notebook.generateWithVariable('data');\n",
              "      }\n",
              "      })();\n",
              "    </script>\n",
              "  </div>\n",
              "\n",
              "    </div>\n",
              "  </div>\n"
            ]
          },
          "metadata": {},
          "execution_count": 11
        }
      ]
    },
    {
      "cell_type": "code",
      "source": [
        "from pyActigraphy.io import BaseRaw\n",
        "raw = BaseRaw(\n",
        "    name=\"control_1\",\n",
        "    uuid='DeviceId',\n",
        "    format='Pandas',\n",
        "    axial_mode=None,\n",
        "    start_time=data.index[0],\n",
        "    period=(data.index[-1]-data.index[0]),\n",
        "    frequency=index.freq,\n",
        "    data=data['activity'],\n",
        "    light=None\n",
        ")"
      ],
      "metadata": {
        "id": "NtswhfJfOLaW"
      },
      "execution_count": null,
      "outputs": []
    },
    {
      "cell_type": "code",
      "source": [
        "raw.data"
      ],
      "metadata": {
        "id": "8w43-rftRKLI",
        "colab": {
          "base_uri": "https://localhost:8080/"
        },
        "outputId": "0524957b-a6db-4de2-c822-39755cb3feba"
      },
      "execution_count": null,
      "outputs": [
        {
          "output_type": "execute_result",
          "data": {
            "text/plain": [
              "2003-03-18 15:00:00     60\n",
              "2003-03-18 15:01:00      0\n",
              "2003-03-18 15:02:00    264\n",
              "2003-03-18 15:03:00    662\n",
              "2003-03-18 15:04:00    293\n",
              "                      ... \n",
              "2003-04-23 11:06:00      3\n",
              "2003-04-23 11:07:00      3\n",
              "2003-04-23 11:08:00      3\n",
              "2003-04-23 11:09:00      3\n",
              "2003-04-23 11:10:00      0\n",
              "Freq: 60S, Name: activity, Length: 51611, dtype: int64"
            ]
          },
          "metadata": {},
          "execution_count": 13
        }
      ]
    },
    {
      "cell_type": "code",
      "source": [
        "import plotly.graph_objects as go\n",
        "from pyActigraphy.analysis import Cosinor\n",
        "cosinor = Cosinor()\n",
        "cosinor.fit_initial_params['Period'].vary = False\n",
        "cosinor.fit_initial_params.pretty_print()\n"
      ],
      "metadata": {
        "colab": {
          "base_uri": "https://localhost:8080/"
        },
        "id": "GQOEa423XHK6",
        "outputId": "755912fb-5228-4efe-9c63-2e1ecedad779"
      },
      "execution_count": null,
      "outputs": [
        {
          "output_type": "stream",
          "name": "stdout",
          "text": [
            "Name          Value      Min      Max   Stderr     Vary     Expr Brute_Step\n",
            "Acrophase     3.142        0    6.283     None     True     None     None\n",
            "Amplitude        50        0      inf     None     True     None     None\n",
            "Mesor            50        0      inf     None     True     None     None\n",
            "Period         1440        0      inf     None    False     None     None\n"
          ]
        }
      ]
    },
    {
      "cell_type": "code",
      "source": [
        "results = cosinor.fit(raw.data, verbose=True) # Set verbose to True to print the fit output"
      ],
      "metadata": {
        "colab": {
          "base_uri": "https://localhost:8080/"
        },
        "id": "bWCPYNJZXk7m",
        "outputId": "63c18270-5a42-4ac6-f22b-6c41e28f7dbd"
      },
      "execution_count": null,
      "outputs": [
        {
          "output_type": "stream",
          "name": "stdout",
          "text": [
            "[[Fit Statistics]]\n",
            "    # fitting method   = leastsq\n",
            "    # function evals   = 26\n",
            "    # data points      = 51611\n",
            "    # variables        = 3\n",
            "    chi-square         = 4.1802e+09\n",
            "    reduced chi-square = 80998.9492\n",
            "    Akaike info crit   = 583320.403\n",
            "    Bayesian info crit = 583346.958\n",
            "[[Variables]]\n",
            "    Amplitude:  76.2461944 +/- 1.77241552 (2.32%) (init = 50)\n",
            "    Acrophase:  6.10828460 +/- 0.02320013 (0.38%) (init = 3.141593)\n",
            "    Period:     1440 (fixed)\n",
            "    Mesor:      98.7980042 +/- 1.25278472 (1.27%) (init = 50)\n"
          ]
        }
      ]
    },
    {
      "cell_type": "code",
      "source": [
        "results.params.valuesdict()"
      ],
      "metadata": {
        "colab": {
          "base_uri": "https://localhost:8080/"
        },
        "id": "2kWg107FYnFx",
        "outputId": "923ef8e5-0e67-407e-b830-e944ad90a3ba"
      },
      "execution_count": null,
      "outputs": [
        {
          "output_type": "execute_result",
          "data": {
            "text/plain": [
              "{'Amplitude': 76.24619436726096,\n",
              " 'Acrophase': 6.108284601763934,\n",
              " 'Period': 1440,\n",
              " 'Mesor': 98.79800416854177}"
            ]
          },
          "metadata": {},
          "execution_count": 16
        }
      ]
    },
    {
      "cell_type": "code",
      "source": [
        "path = '/content/extracted/data/control/'\n",
        "dirs = os.listdir(path)\n",
        "cosinor_result = []\n",
        "from pyActigraphy.io import BaseRaw\n",
        "import plotly.graph_objects as go\n",
        "from pyActigraphy.analysis import Cosinor\n",
        "\n",
        "print(dirs)\n",
        "for filepath in dirs:\n",
        "    source = filepath.split('.')[0]\n",
        "    if filepath.endswith('.csv'):\n",
        "      extracted_data = pd.read_csv(path + filepath)\n",
        "      d = {'timestamp': extracted_data['timestamp'], 'date': extracted_data['date'], 'activity': extracted_data['activity']}\n",
        "      index = pd.date_range(start=extracted_data['timestamp'].min(),freq='60s',periods=len(extracted_data))\n",
        "      data = pd.DataFrame(data=d, index=index)\n",
        "      data['timestamp'] = pd.to_datetime(data['timestamp'])\n",
        "      #data.set_index('timestamp', inplace=True)\n",
        "      data['activity'] = extracted_data['activity'].values\n",
        "      data['timestamp'] = extracted_data['timestamp'].values\n",
        "      data['date'] = extracted_data['date'].values\n",
        "\n",
        "      raw = BaseRaw(\n",
        "            name=source,\n",
        "            uuid='DeviceId',\n",
        "            format='Pandas',\n",
        "            axial_mode=None,\n",
        "            start_time=data.index[0],\n",
        "            period=(data.index[-1]-data.index[0]),\n",
        "            frequency=index.freq,\n",
        "            data=data['activity'],\n",
        "            light=None\n",
        "      )\n",
        "      cosinor = Cosinor()\n",
        "      cosinor.fit_initial_params['Period'].vary = False\n",
        "      results = cosinor.fit(raw.data, verbose=False) # Set verbose to True to print the fit output\n",
        "      loop_result = results.params.valuesdict()\n",
        "      loop_result['File_Name'] = raw.name\n",
        "      cosinor_result.append(loop_result)\n",
        "df_controls = pd.DataFrame(cosinor_result)\n",
        "print(df_controls)\n"
      ],
      "metadata": {
        "colab": {
          "base_uri": "https://localhost:8080/"
        },
        "id": "RTUNqYK5D2xA",
        "outputId": "7576f765-f5de-481f-ed4a-6737e4c28414"
      },
      "execution_count": null,
      "outputs": [
        {
          "output_type": "stream",
          "name": "stdout",
          "text": [
            "['control_7.csv', 'control_3.csv', 'control_10.csv', 'control_12.csv', 'control_31.csv', 'control_9.csv', 'control_32.csv', 'control_19.csv', 'control_22.csv', 'control_28.csv', 'control_24.csv', 'control_13.csv', 'control_1.csv', 'control_27.csv', 'control_18.csv', 'control_23.csv', 'control_4.csv', 'control_25.csv', 'control_8.csv', 'control_20.csv', 'control_29.csv', 'control_15.csv', 'control_26.csv', 'control_11.csv', 'control_16.csv', 'control_14.csv', 'control_6.csv', 'control_30.csv', 'control_17.csv', 'control_5.csv', 'control_21.csv', 'control_2.csv']\n",
            "       Amplitude  Acrophase  Period       Mesor   File_Name\n",
            "0   9.990838e+01   5.903885    1440  163.176973   control_7\n",
            "1   2.918315e-09   3.173090    1440   76.906412   control_3\n",
            "2   2.171203e+02   5.087482    1440  280.148785  control_10\n",
            "3   8.432946e+01   4.930164    1440   93.235480  control_12\n",
            "4   1.227430e+02   5.858825    1440  147.632114  control_31\n",
            "5   9.146469e+01   4.489120    1440  107.059191   control_9\n",
            "6   3.959171e+01   5.586085    1440   68.313494  control_32\n",
            "7   1.088285e+02   4.597274    1440  169.044452  control_19\n",
            "8   1.788552e+02   4.551430    1440  245.194708  control_22\n",
            "9   1.760811e+02   4.832174    1440  293.338486  control_28\n",
            "10  3.031218e+02   4.089611    1440  352.320614  control_24\n",
            "11  1.522290e+02   4.946746    1440  165.183504  control_13\n",
            "12  7.624619e+01   6.108285    1440   98.798004   control_1\n",
            "13  1.970146e+02   4.390530    1440  312.926541  control_27\n",
            "14  1.244799e-06   1.846523    1440  241.480898  control_18\n",
            "15  1.261428e+02   4.655583    1440  189.687840  control_23\n",
            "16  1.277468e+02   5.976054    1440  138.772316   control_4\n",
            "17  2.080849e+02   4.960272    1440  294.011909  control_25\n",
            "18  1.608787e+02   4.664829    1440  290.354229   control_8\n",
            "19  2.128672e+02   4.955486    1440  229.079546  control_20\n",
            "20  1.738815e+02   5.013603    1440  238.015378  control_29\n",
            "21  2.098986e+02   4.891867    1440  273.919876  control_15\n",
            "22  1.888978e+02   4.505093    1440  231.390973  control_26\n",
            "23  1.142040e+02   4.708743    1440  162.239463  control_11\n",
            "24  1.537249e+02   4.772364    1440  205.788886  control_16\n",
            "25  2.557469e+02   4.755593    1440  338.523729  control_14\n",
            "26  1.003312e+02   6.034157    1440  152.620364   control_6\n",
            "27  1.777149e+02   5.722127    1440  218.942480  control_30\n",
            "28  1.436010e+02   4.758331    1440  176.629664  control_17\n",
            "29  1.031395e+02   0.260711    1440  134.511116   control_5\n",
            "30  5.703819e+01   3.563584    1440  172.530830  control_21\n",
            "31  3.299667e+02   6.073635    1440  400.535925   control_2\n"
          ]
        }
      ]
    },
    {
      "cell_type": "code",
      "source": [
        "path = '/content/extracted/data/condition/'\n",
        "dirs = os.listdir(path)\n",
        "cosinor_result = []\n",
        "from pyActigraphy.io import BaseRaw\n",
        "import plotly.graph_objects as go\n",
        "from pyActigraphy.analysis import Cosinor\n",
        "\n",
        "print(dirs)\n",
        "for filepath in dirs:\n",
        "    source = filepath.split('.')[0]\n",
        "    if filepath.endswith('.csv'):\n",
        "      extracted_data = pd.read_csv(path + filepath)\n",
        "      d = {'timestamp': extracted_data['timestamp'], 'date': extracted_data['date'], 'activity': extracted_data['activity']}\n",
        "      index = pd.date_range(start=extracted_data['timestamp'].min(),freq='60s',periods=len(extracted_data))\n",
        "      data = pd.DataFrame(data=d, index=index)\n",
        "      data['timestamp'] = pd.to_datetime(data['timestamp'])\n",
        "      #data.set_index('timestamp', inplace=True)\n",
        "      data['activity'] = extracted_data['activity'].values\n",
        "      data['timestamp'] = extracted_data['timestamp'].values\n",
        "      data['date'] = extracted_data['date'].values\n",
        "\n",
        "      raw = BaseRaw(\n",
        "            name=source,\n",
        "            uuid='DeviceId',\n",
        "            format='Pandas',\n",
        "            axial_mode=None,\n",
        "            start_time=data.index[0],\n",
        "            period=(data.index[-1]-data.index[0]),\n",
        "            frequency=index.freq,\n",
        "            data=data['activity'],\n",
        "            light=None\n",
        "      )\n",
        "      cosinor = Cosinor()\n",
        "      cosinor.fit_initial_params['Period'].vary = False\n",
        "      results = cosinor.fit(raw.data, verbose=False) # Set verbose to True to print the fit output\n",
        "      loop_result = results.params.valuesdict()\n",
        "      loop_result['File_Name'] = raw.name\n",
        "      cosinor_result.append(loop_result)\n",
        "df_conditions = pd.DataFrame(cosinor_result)\n",
        "print(df_conditions)"
      ],
      "metadata": {
        "colab": {
          "base_uri": "https://localhost:8080/"
        },
        "id": "YT4YscGFTd_A",
        "outputId": "6e666529-7190-4341-cf30-470af8dfdae0"
      },
      "execution_count": null,
      "outputs": [
        {
          "output_type": "stream",
          "name": "stdout",
          "text": [
            "['condition_6.csv', 'condition_10.csv', 'condition_22.csv', 'condition_12.csv', 'condition_4.csv', 'condition_17.csv', 'condition_5.csv', 'condition_21.csv', 'condition_3.csv', 'condition_8.csv', 'condition_9.csv', 'condition_23.csv', 'condition_2.csv', 'condition_11.csv', 'condition_15.csv', 'condition_18.csv', 'condition_7.csv', 'condition_1.csv', 'condition_14.csv', 'condition_19.csv', 'condition_16.csv', 'condition_20.csv', 'condition_13.csv']\n",
            "       Amplitude  Acrophase  Period       Mesor     File_Name\n",
            "0   1.674912e+02   5.424896    1440  196.849262   condition_6\n",
            "1   2.671808e+02   4.624900    1440  289.543232  condition_10\n",
            "2   1.263917e+02   5.162857    1440  161.040680  condition_22\n",
            "3   1.388930e+02   4.605599    1440  149.082491  condition_12\n",
            "4   1.979003e+02   5.112550    1440  274.986956   condition_4\n",
            "5   6.201826e+01   4.544390    1440   85.779763  condition_17\n",
            "6   1.591926e+02   4.939013    1440  167.238922   condition_5\n",
            "7   7.532503e+01   6.025280    1440   78.488580  condition_21\n",
            "8   2.525211e+02   5.849364    1440  264.771202   condition_3\n",
            "9   1.849622e+02   4.428746    1440  181.463512   condition_8\n",
            "10  1.184997e+02   5.440657    1440  177.980538   condition_9\n",
            "11  1.963675e+02   5.172285    1440  202.657180  condition_23\n",
            "12  1.757503e+02   1.023226    1440  153.574675   condition_2\n",
            "13  1.138872e+02   4.207809    1440  129.240243  condition_11\n",
            "14  6.703642e+01   4.882474    1440  109.116611  condition_15\n",
            "15  2.057036e+01   4.289838    1440   70.912171  condition_18\n",
            "16  2.223511e+02   4.524462    1440  257.985779   condition_7\n",
            "17  1.648379e+02   5.487807    1440  145.634671   condition_1\n",
            "18  6.383562e+01   0.303499    1440   74.925243  condition_14\n",
            "19  1.975804e-10   3.651965    1440  157.105579  condition_19\n",
            "20  1.614860e+02   5.005468    1440  146.288086  condition_16\n",
            "21  4.119903e+01   5.217072    1440   54.736986  condition_20\n",
            "22  1.456598e+02   4.644243    1440  221.343573  condition_13\n"
          ]
        }
      ]
    },
    {
      "cell_type": "code",
      "source": [
        "result_concat_rows = pd.concat([df_controls, df_conditions], axis=0)\n",
        "print(result_concat_rows)"
      ],
      "metadata": {
        "colab": {
          "base_uri": "https://localhost:8080/"
        },
        "id": "uP6aqSszP8M1",
        "outputId": "ba9b1165-0746-4010-acf6-23a462eadaeb"
      },
      "execution_count": null,
      "outputs": [
        {
          "output_type": "stream",
          "name": "stdout",
          "text": [
            "       Amplitude  Acrophase  Period       Mesor     File_Name\n",
            "0   9.990838e+01   5.903885    1440  163.176973     control_7\n",
            "1   2.918315e-09   3.173090    1440   76.906412     control_3\n",
            "2   2.171203e+02   5.087482    1440  280.148785    control_10\n",
            "3   8.432946e+01   4.930164    1440   93.235480    control_12\n",
            "4   1.227430e+02   5.858825    1440  147.632114    control_31\n",
            "5   9.146469e+01   4.489120    1440  107.059191     control_9\n",
            "6   3.959171e+01   5.586085    1440   68.313494    control_32\n",
            "7   1.088285e+02   4.597274    1440  169.044452    control_19\n",
            "8   1.788552e+02   4.551430    1440  245.194708    control_22\n",
            "9   1.760811e+02   4.832174    1440  293.338486    control_28\n",
            "10  3.031218e+02   4.089611    1440  352.320614    control_24\n",
            "11  1.522290e+02   4.946746    1440  165.183504    control_13\n",
            "12  7.624619e+01   6.108285    1440   98.798004     control_1\n",
            "13  1.970146e+02   4.390530    1440  312.926541    control_27\n",
            "14  1.244799e-06   1.846523    1440  241.480898    control_18\n",
            "15  1.261428e+02   4.655583    1440  189.687840    control_23\n",
            "16  1.277468e+02   5.976054    1440  138.772316     control_4\n",
            "17  2.080849e+02   4.960272    1440  294.011909    control_25\n",
            "18  1.608787e+02   4.664829    1440  290.354229     control_8\n",
            "19  2.128672e+02   4.955486    1440  229.079546    control_20\n",
            "20  1.738815e+02   5.013603    1440  238.015378    control_29\n",
            "21  2.098986e+02   4.891867    1440  273.919876    control_15\n",
            "22  1.888978e+02   4.505093    1440  231.390973    control_26\n",
            "23  1.142040e+02   4.708743    1440  162.239463    control_11\n",
            "24  1.537249e+02   4.772364    1440  205.788886    control_16\n",
            "25  2.557469e+02   4.755593    1440  338.523729    control_14\n",
            "26  1.003312e+02   6.034157    1440  152.620364     control_6\n",
            "27  1.777149e+02   5.722127    1440  218.942480    control_30\n",
            "28  1.436010e+02   4.758331    1440  176.629664    control_17\n",
            "29  1.031395e+02   0.260711    1440  134.511116     control_5\n",
            "30  5.703819e+01   3.563584    1440  172.530830    control_21\n",
            "31  3.299667e+02   6.073635    1440  400.535925     control_2\n",
            "0   1.674912e+02   5.424896    1440  196.849262   condition_6\n",
            "1   2.671808e+02   4.624900    1440  289.543232  condition_10\n",
            "2   1.263917e+02   5.162857    1440  161.040680  condition_22\n",
            "3   1.388930e+02   4.605599    1440  149.082491  condition_12\n",
            "4   1.979003e+02   5.112550    1440  274.986956   condition_4\n",
            "5   6.201826e+01   4.544390    1440   85.779763  condition_17\n",
            "6   1.591926e+02   4.939013    1440  167.238922   condition_5\n",
            "7   7.532503e+01   6.025280    1440   78.488580  condition_21\n",
            "8   2.525211e+02   5.849364    1440  264.771202   condition_3\n",
            "9   1.849622e+02   4.428746    1440  181.463512   condition_8\n",
            "10  1.184997e+02   5.440657    1440  177.980538   condition_9\n",
            "11  1.963675e+02   5.172285    1440  202.657180  condition_23\n",
            "12  1.757503e+02   1.023226    1440  153.574675   condition_2\n",
            "13  1.138872e+02   4.207809    1440  129.240243  condition_11\n",
            "14  6.703642e+01   4.882474    1440  109.116611  condition_15\n",
            "15  2.057036e+01   4.289838    1440   70.912171  condition_18\n",
            "16  2.223511e+02   4.524462    1440  257.985779   condition_7\n",
            "17  1.648379e+02   5.487807    1440  145.634671   condition_1\n",
            "18  6.383562e+01   0.303499    1440   74.925243  condition_14\n",
            "19  1.975804e-10   3.651965    1440  157.105579  condition_19\n",
            "20  1.614860e+02   5.005468    1440  146.288086  condition_16\n",
            "21  4.119903e+01   5.217072    1440   54.736986  condition_20\n",
            "22  1.456598e+02   4.644243    1440  221.343573  condition_13\n"
          ]
        }
      ]
    },
    {
      "cell_type": "code",
      "source": [
        "import pandas as pd\n",
        "from sklearn.model_selection import train_test_split\n",
        "from sklearn.linear_model import LinearRegression, LogisticRegression\n",
        "from sklearn.metrics import accuracy_score, classification_report\n",
        "\n",
        "# Assuming your DataFrame is named df\n",
        "# 'label' is the column indicating whether it's a control (0) or condition (1) instance\n",
        "# Drop 'File_Name' and 'label' from X as they are not features for the model\n",
        "# Create a binary label column (1 for 'condition', 0 for 'control')\n",
        "result_concat_rows['LABEL'] = result_concat_rows['File_Name'].str.contains('condition').astype(int)\n",
        "\n",
        "# Features are all columns except 'FILE_NAME' and the label column\n",
        "X = result_concat_rows.drop(['File_Name', 'LABEL'], axis=1)\n",
        "\n",
        "# Target variable is the 'LABEL' column\n",
        "y = result_concat_rows['LABEL']\n",
        "\n",
        "# Split the data into training and testing sets\n",
        "X_train, X_test, y_train, y_test = train_test_split(X, y, test_size=0.2, random_state=42)\n",
        "\n",
        "# Linear Regression\n",
        "linear_model = LinearRegression()\n",
        "linear_model.fit(X_train, y_train)\n",
        "\n",
        "# Logistic Regression\n",
        "logistic_model = LogisticRegression()\n",
        "logistic_model.fit(X_train, y_train)\n",
        "\n",
        "# Predictions\n",
        "linear_predictions = linear_model.predict(X_test)\n",
        "logistic_predictions = logistic_model.predict(X_test)\n",
        "\n",
        "# Evaluation\n",
        "linear_accuracy = accuracy_score(y_test, linear_predictions.round())\n",
        "logistic_accuracy = accuracy_score(y_test, logistic_predictions)\n",
        "\n",
        "print(f'Linear Regression Accuracy: {linear_accuracy}')\n",
        "print(f'Logistic Regression Accuracy: {logistic_accuracy}')\n",
        "\n",
        "# Additional metrics for logistic regression\n",
        "logistic_classification_report = classification_report(y_test, logistic_predictions)\n",
        "print('Logistic Regression Classification Report:\\n', logistic_classification_report)\n"
      ],
      "metadata": {
        "colab": {
          "base_uri": "https://localhost:8080/"
        },
        "id": "JoDWkwjESHyk",
        "outputId": "82593b9d-c335-4c14-f298-5ba947ce07e2"
      },
      "execution_count": null,
      "outputs": [
        {
          "output_type": "stream",
          "name": "stdout",
          "text": [
            "Linear Regression Accuracy: 0.6363636363636364\n",
            "Logistic Regression Accuracy: 0.7272727272727273\n",
            "Logistic Regression Classification Report:\n",
            "               precision    recall  f1-score   support\n",
            "\n",
            "           0       0.80      0.67      0.73         6\n",
            "           1       0.67      0.80      0.73         5\n",
            "\n",
            "    accuracy                           0.73        11\n",
            "   macro avg       0.73      0.73      0.73        11\n",
            "weighted avg       0.74      0.73      0.73        11\n",
            "\n"
          ]
        }
      ]
    },
    {
      "cell_type": "code",
      "source": [
        "from sklearn.ensemble import RandomForestClassifier\n",
        "\n",
        "# Create a Random Forest classifier\n",
        "rf_model = RandomForestClassifier()\n",
        "rf_model.fit(X_train, y_train)\n",
        "\n",
        "# Predictions\n",
        "rf_predictions = rf_model.predict(X_test)\n",
        "\n",
        "# Evaluation\n",
        "rf_accuracy = accuracy_score(y_test, rf_predictions)\n",
        "print(f'Random Forest Accuracy: {rf_accuracy}')\n"
      ],
      "metadata": {
        "colab": {
          "base_uri": "https://localhost:8080/"
        },
        "id": "3wYJk7AiVsE8",
        "outputId": "b4669093-bc86-4232-b8b2-90e250f708f1"
      },
      "execution_count": null,
      "outputs": [
        {
          "output_type": "stream",
          "name": "stdout",
          "text": [
            "Random Forest Accuracy: 0.45454545454545453\n"
          ]
        }
      ]
    },
    {
      "cell_type": "code",
      "source": [
        "from xgboost import XGBClassifier\n",
        "\n",
        "# Create an XGBoost classifier\n",
        "xgb_model = XGBClassifier()\n",
        "xgb_model.fit(X_train, y_train)\n",
        "\n",
        "# Predictions\n",
        "xgb_predictions = xgb_model.predict(X_test)\n",
        "\n",
        "# Evaluation\n",
        "xgb_accuracy = accuracy_score(y_test, xgb_predictions)\n",
        "print(f'XGBoost Accuracy: {xgb_accuracy}')\n"
      ],
      "metadata": {
        "colab": {
          "base_uri": "https://localhost:8080/"
        },
        "id": "j1YPfOHOVvq-",
        "outputId": "e4c3954d-88ee-4d3f-a4a2-3d80a4787f80"
      },
      "execution_count": null,
      "outputs": [
        {
          "output_type": "stream",
          "name": "stdout",
          "text": [
            "XGBoost Accuracy: 0.6363636363636364\n"
          ]
        }
      ]
    },
    {
      "cell_type": "code",
      "source": [
        "from sklearn.svm import SVC\n",
        "\n",
        "# Create a Support Vector Machine classifier\n",
        "svm_model = SVC()\n",
        "svm_model.fit(X_train, y_train)\n",
        "\n",
        "# Predictions\n",
        "svm_predictions = svm_model.predict(X_test)\n",
        "\n",
        "# Evaluation\n",
        "svm_accuracy = accuracy_score(y_test, svm_predictions)\n",
        "print(f'SVM Accuracy: {svm_accuracy}')\n"
      ],
      "metadata": {
        "colab": {
          "base_uri": "https://localhost:8080/"
        },
        "id": "gbiSVTBDWAdv",
        "outputId": "1dc78d0c-fbf6-418b-c5e9-c1a00decd4e8"
      },
      "execution_count": null,
      "outputs": [
        {
          "output_type": "stream",
          "name": "stdout",
          "text": [
            "SVM Accuracy: 0.5454545454545454\n"
          ]
        }
      ]
    },
    {
      "cell_type": "code",
      "source": [
        "%%writefile depresjon_cosinor.py\n",
        "\n",
        "!pip install pyActigraphy\n",
        "\n",
        "import os\n",
        "from datetime import datetime\n",
        "import numpy as np\n",
        "import pandas as pd\n",
        "import seaborn as sns\n",
        "import matplotlib.pyplot as plt\n",
        "import zipfile\n",
        "import pyActigraphy\n",
        "from pyActigraphy.io import BaseRaw\n",
        "\n",
        "\n",
        "\n",
        "# Define the path to your uploaded zip file\n",
        "zip_path = '/content/depresjon.zip'  # Make sure to replace 'your_zip_file.zip' with your actual file name\n",
        "\n",
        "# Define the directory where you want to extract the files\n",
        "extracted_path = '/content/extracted/'\n",
        "\n",
        "# Create the directory if it doesn't exist\n",
        "os.makedirs(extracted_path, exist_ok=True)\n",
        "\n",
        "# Unzip the file\n",
        "with zipfile.ZipFile(zip_path, 'r') as zip_ref:\n",
        "    zip_ref.extractall(extracted_path)\n",
        "\n",
        "# List the files in the extracted directory\n",
        "extracted_files = os.listdir(extracted_path)\n",
        "\n",
        "# Print the list of files\n",
        "print(\"Extracted Files:\")\n",
        "for file in extracted_files:\n",
        "    print(file)\n",
        "\n",
        "\n",
        "path = '/content/extracted/data/control/'\n",
        "dirs = os.listdir(path)\n",
        "cosinor_result = []\n",
        "from pyActigraphy.io import BaseRaw\n",
        "import plotly.graph_objects as go\n",
        "from pyActigraphy.analysis import Cosinor\n",
        "\n",
        "print(dirs)\n",
        "for filepath in dirs:\n",
        "    source = filepath.split('.')[0]\n",
        "    if filepath.endswith('.csv'):\n",
        "      extracted_data = pd.read_csv(path + filepath)\n",
        "      d = {'timestamp': extracted_data['timestamp'], 'date': extracted_data['date'], 'activity': extracted_data['activity']}\n",
        "      index = pd.date_range(start=extracted_data['timestamp'].min(),freq='60s',periods=len(extracted_data))\n",
        "      data = pd.DataFrame(data=d, index=index)\n",
        "      data['timestamp'] = pd.to_datetime(data['timestamp'])\n",
        "      #data.set_index('timestamp', inplace=True)\n",
        "      data['activity'] = extracted_data['activity'].values\n",
        "      data['timestamp'] = extracted_data['timestamp'].values\n",
        "      data['date'] = extracted_data['date'].values\n",
        "\n",
        "      raw = BaseRaw(\n",
        "            name=source,\n",
        "            uuid='DeviceId',\n",
        "            format='Pandas',\n",
        "            axial_mode=None,\n",
        "            start_time=data.index[0],\n",
        "            period=(data.index[-1]-data.index[0]),\n",
        "            frequency=index.freq,\n",
        "            data=data['activity'],\n",
        "            light=None\n",
        "      )\n",
        "      cosinor = Cosinor()\n",
        "      cosinor.fit_initial_params['Period'].vary = False\n",
        "      results = cosinor.fit(raw.data, verbose=False) # Set verbose to True to print the fit output\n",
        "      loop_result = results.params.valuesdict()\n",
        "      loop_result['File_Name'] = raw.name\n",
        "      cosinor_result.append(loop_result)\n",
        "df_controls = pd.DataFrame(cosinor_result)\n",
        "print(df_cosinor_result)\n",
        "\n",
        "\n",
        "\n",
        "\n",
        "path = '/content/extracted/data/condition/'\n",
        "dirs = os.listdir(path)\n",
        "cosinor_result = []\n",
        "from pyActigraphy.io import BaseRaw\n",
        "import plotly.graph_objects as go\n",
        "from pyActigraphy.analysis import Cosinor\n",
        "\n",
        "print(dirs)\n",
        "for filepath in dirs:\n",
        "    source = filepath.split('.')[0]\n",
        "    if filepath.endswith('.csv'):\n",
        "      extracted_data = pd.read_csv(path + filepath)\n",
        "      d = {'timestamp': extracted_data['timestamp'], 'date': extracted_data['date'], 'activity': extracted_data['activity']}\n",
        "      index = pd.date_range(start=extracted_data['timestamp'].min(),freq='60s',periods=len(extracted_data))\n",
        "      data = pd.DataFrame(data=d, index=index)\n",
        "      data['timestamp'] = pd.to_datetime(data['timestamp'])\n",
        "      #data.set_index('timestamp', inplace=True)\n",
        "      data['activity'] = extracted_data['activity'].values\n",
        "      data['timestamp'] = extracted_data['timestamp'].values\n",
        "      data['date'] = extracted_data['date'].values\n",
        "\n",
        "      raw = BaseRaw(\n",
        "            name=source,\n",
        "            uuid='DeviceId',\n",
        "            format='Pandas',\n",
        "            axial_mode=None,\n",
        "            start_time=data.index[0],\n",
        "            period=(data.index[-1]-data.index[0]),\n",
        "            frequency=index.freq,\n",
        "            data=data['activity'],\n",
        "            light=None\n",
        "      )\n",
        "      cosinor = Cosinor()\n",
        "      cosinor.fit_initial_params['Period'].vary = False\n",
        "      results = cosinor.fit(raw.data, verbose=False) # Set verbose to True to print the fit output\n",
        "      loop_result = results.params.valuesdict()\n",
        "      loop_result['File_Name'] = raw.name\n",
        "      cosinor_result.append(loop_result)\n",
        "df_conditions = pd.DataFrame(cosinor_result)\n",
        "print(df_conditions)\n",
        "\n",
        "\n",
        "\n",
        "result_concat_rows = pd.concat([df_controls, df_conditions], axis=0)\n",
        "print(result_concat_rows)\n",
        "\n",
        "\n",
        "import pandas as pd\n",
        "from sklearn.model_selection import train_test_split\n",
        "from sklearn.linear_model import LinearRegression, LogisticRegression\n",
        "from sklearn.metrics import accuracy_score, classification_report\n",
        "\n",
        "# Assuming your DataFrame is named df\n",
        "# 'label' is the column indicating whether it's a control (0) or condition (1) instance\n",
        "# Drop 'File_Name' and 'label' from X as they are not features for the model\n",
        "# Create a binary label column (1 for 'condition', 0 for 'control')\n",
        "result_concat_rows['LABEL'] = result_concat_rows['File_Name'].str.contains('condition').astype(int)\n",
        "\n",
        "# Features are all columns except 'FILE_NAME' and the label column\n",
        "X = result_concat_rows.drop(['File_Name', 'LABEL'], axis=1)\n",
        "\n",
        "# Target variable is the 'LABEL' column\n",
        "y = result_concat_rows['LABEL']\n",
        "\n",
        "# Split the data into training and testing sets\n",
        "X_train, X_test, y_train, y_test = train_test_split(X, y, test_size=0.2, random_state=42)\n",
        "\n",
        "# Linear Regression\n",
        "linear_model = LinearRegression()\n",
        "linear_model.fit(X_train, y_train)\n",
        "\n",
        "# Logistic Regression\n",
        "logistic_model = LogisticRegression()\n",
        "logistic_model.fit(X_train, y_train)\n",
        "\n",
        "# Predictions\n",
        "linear_predictions = linear_model.predict(X_test)\n",
        "logistic_predictions = logistic_model.predict(X_test)\n",
        "\n",
        "# Evaluation\n",
        "linear_accuracy = accuracy_score(y_test, linear_predictions.round())\n",
        "logistic_accuracy = accuracy_score(y_test, logistic_predictions)\n",
        "\n",
        "print(f'Linear Regression Accuracy: {linear_accuracy}')\n",
        "print(f'Logistic Regression Accuracy: {logistic_accuracy}')\n",
        "\n",
        "# Additional metrics for logistic regression\n",
        "logistic_classification_report = classification_report(y_test, logistic_predictions)\n",
        "print('Logistic Regression Classification Report:\\n', logistic_classification_report)\n"
      ],
      "metadata": {
        "colab": {
          "base_uri": "https://localhost:8080/"
        },
        "id": "Inx90TloeBee",
        "outputId": "f8129660-e308-43bc-b16b-f015934d71c9"
      },
      "execution_count": null,
      "outputs": [
        {
          "output_type": "stream",
          "name": "stdout",
          "text": [
            "Writing depresjon_cosinor.py\n"
          ]
        }
      ]
    },
    {
      "cell_type": "code",
      "source": [],
      "metadata": {
        "id": "6X0O9GqigbOO"
      },
      "execution_count": null,
      "outputs": []
    }
  ]
}